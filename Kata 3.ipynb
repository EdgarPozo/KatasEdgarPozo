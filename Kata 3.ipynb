{
 "cells": [
  {
   "cell_type": "code",
   "execution_count": 3,
   "metadata": {},
   "outputs": [
    {
     "name": "stdout",
     "output_type": "stream",
     "text": [
      "No hay peligro existente \n"
     ]
    }
   ],
   "source": [
    "Ad=25 #Advertencia \n",
    "Nasa = float(input(\"¿Cual es la velocidad del asteroide en (Km/s)?\"))\n",
    "if Nasa > Ad:\n",
    "    print(\"Cuidado el asteroide puede hacernos mucho daño\")\n",
    "else:\n",
    "        print(\"No hay peligro existente \")"
   ]
  },
  {
   "cell_type": "code",
   "execution_count": 7,
   "metadata": {},
   "outputs": [
    {
     "name": "stdout",
     "output_type": "stream",
     "text": [
      "Que pena, hoy no se veran luces :(\n"
     ]
    }
   ],
   "source": [
    "Ast=1\n",
    "if Ast >=20:\n",
    "    print(\"¡Rapido mira al cielo hay un hermoso rayo de luz!\")\n",
    "elif Ast == 20:\n",
    "    print(\"¡Rapido mira al cielo hay un hermoso rayo de luz!\")\n",
    "else:\n",
    "    print(\"Que pena, hoy no se veran luces :(\")"
   ]
  },
  {
   "cell_type": "code",
   "execution_count": 13,
   "metadata": {},
   "outputs": [
    {
     "name": "stdout",
     "output_type": "stream",
     "text": [
      "¡Hola! Oficial superior\n",
      "¡Friend! Mira la cielo hay un rayo de luz muy bonito\n"
     ]
    }
   ],
   "source": [
    "print(\"¡Hola! Oficial superior\")\n",
    "Gr = float(input(\"¿Cuantos metros de tiene el asteroide?\"))\n",
    "Ve = float(input(\"¿Qué velocidad tiene el asteroide en (Km/s)\"))\n",
    "if Gr <= 25 or Ve <25:\n",
    "    print(\"¡Friend! Mira la cielo hay un rayo de luz muy bonito\")\n",
    "if Ve >=25 or Gr >25:\n",
    "    print(\"¡Superior! Un asteroide nos ara mucho daño!\")\n",
    "\n",
    "\n"
   ]
  }
 ],
 "metadata": {
  "interpreter": {
   "hash": "db38f594ce9cf2b364764668863d94fe1c9ee76a6647afc368be7b420d5b4959"
  },
  "kernelspec": {
   "display_name": "Python 3.10.2 64-bit",
   "language": "python",
   "name": "python3"
  },
  "language_info": {
   "codemirror_mode": {
    "name": "ipython",
    "version": 3
   },
   "file_extension": ".py",
   "mimetype": "text/x-python",
   "name": "python",
   "nbconvert_exporter": "python",
   "pygments_lexer": "ipython3",
   "version": "3.10.2"
  },
  "orig_nbformat": 4
 },
 "nbformat": 4,
 "nbformat_minor": 2
}
