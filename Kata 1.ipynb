{
 "cells": [
  {
   "cell_type": "code",
   "execution_count": 1,
   "metadata": {},
   "outputs": [
    {
     "name": "stdout",
     "output_type": "stream",
     "text": [
      "!Hola! Oficial superior \n",
      "La fecha de hoy es: 2022-02-10\n"
     ]
    }
   ],
   "source": [
    "from datetime import date\n",
    "date.today()\n",
    "print(\"!Hola! Oficial superior \")\n",
    "print(\"La fecha de hoy es: \"+str(date.today()))\n"
   ]
  },
  {
   "cell_type": "code",
   "execution_count": 13,
   "metadata": {},
   "outputs": [
    {
     "name": "stdout",
     "output_type": "stream",
     "text": [
      "!Bu! Espero que se un gran viaje\n",
      "Llegaremos en 6.52312 Años luz\n"
     ]
    }
   ],
   "source": [
    "print(\"!Bu! Espero que se un gran viaje\")\n",
    "parsec =float(input(\"Escriba los numeros de parsec a viajar:\"))\n",
    "\n",
    "Añluz= 3.26156 * parsec\n",
    "print(\"Llegaremos en \"+str(Añluz)+\" Años luz\")\n"
   ]
  }
 ],
 "metadata": {
  "interpreter": {
   "hash": "db38f594ce9cf2b364764668863d94fe1c9ee76a6647afc368be7b420d5b4959"
  },
  "kernelspec": {
   "display_name": "Python 3.10.2 64-bit",
   "language": "python",
   "name": "python3"
  },
  "language_info": {
   "codemirror_mode": {
    "name": "ipython",
    "version": 3
   },
   "file_extension": ".py",
   "mimetype": "text/x-python",
   "name": "python",
   "nbconvert_exporter": "python",
   "pygments_lexer": "ipython3",
   "version": "3.10.2"
  },
  "orig_nbformat": 4
 },
 "nbformat": 4,
 "nbformat_minor": 2
}
